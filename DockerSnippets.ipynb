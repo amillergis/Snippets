{
 "cells": [
  {
   "cell_type": "markdown",
   "metadata": {},
   "source": [
    "# Create a docker PostGIS container"
   ]
  },
  {
   "cell_type": "code",
   "execution_count": null,
   "metadata": {
    "collapsed": false
   },
   "outputs": [],
   "source": [
    "docker run --name postgis -e POSTGRES_USER=user -e POSTGRES_DB=user -e POSTGRES_PASSWORD=password --net=host -d mdillon/postgis"
   ]
  },
  {
   "cell_type": "markdown",
   "metadata": {},
   "source": [
    "<b>--name</b> = name of the container<br>\n",
    "<b>-e POSTGRES_USER</b> = creates a login user on the server<br>\n",
    "<b>-e POSTGRES_PASSWORD</b> = create a password for the login user<br>\n",
    "<b>-e POSTGRES_DB</b> = creates a database in server instance<br>\n",
    "<b>--net</b> = binds the container to the host IP<br>\n",
    "<b>-d</b> = run container in a detached instance<br>\n",
    "<b>mdillon/postgis</b> = base container image<br>"
   ]
  }
 ],
 "metadata": {
  "kernelspec": {
   "display_name": "Python 2",
   "language": "python",
   "name": "python2"
  },
  "language_info": {
   "codemirror_mode": {
    "name": "ipython",
    "version": 2
   },
   "file_extension": ".py",
   "mimetype": "text/x-python",
   "name": "python",
   "nbconvert_exporter": "python",
   "pygments_lexer": "ipython2",
   "version": "2.7.10"
  }
 },
 "nbformat": 4,
 "nbformat_minor": 0
}
